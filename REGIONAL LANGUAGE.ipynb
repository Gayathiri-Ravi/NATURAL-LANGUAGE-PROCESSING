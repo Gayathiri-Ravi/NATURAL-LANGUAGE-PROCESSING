{
 "cells": [
  {
   "cell_type": "code",
   "execution_count": 1,
   "metadata": {},
   "outputs": [
    {
     "ename": "RuntimeError",
     "evalue": "This event loop is already running",
     "output_type": "error",
     "traceback": [
      "\u001b[1;31m---------------------------------------------------------------------------\u001b[0m",
      "\u001b[1;31mRuntimeError\u001b[0m                              Traceback (most recent call last)",
      "\u001b[1;32m<ipython-input-1-2b3dd1423cc4>\u001b[0m in \u001b[0;36m<module>\u001b[1;34m\u001b[0m\n\u001b[0;32m      1\u001b[0m \u001b[1;32mfrom\u001b[0m \u001b[0minltk\u001b[0m\u001b[1;33m.\u001b[0m\u001b[0minltk\u001b[0m \u001b[1;32mimport\u001b[0m \u001b[0msetup\u001b[0m\u001b[1;33m\u001b[0m\u001b[1;33m\u001b[0m\u001b[0m\n\u001b[1;32m----> 2\u001b[1;33m \u001b[0msetup\u001b[0m\u001b[1;33m(\u001b[0m\u001b[1;34m'ta'\u001b[0m\u001b[1;33m)\u001b[0m\u001b[1;33m\u001b[0m\u001b[1;33m\u001b[0m\u001b[0m\n\u001b[0m",
      "\u001b[1;32mD:\\anaconda\\lib\\site-packages\\inltk\\inltk.py\u001b[0m in \u001b[0;36msetup\u001b[1;34m(language_code)\u001b[0m\n\u001b[0;32m     26\u001b[0m     \u001b[0mloop\u001b[0m \u001b[1;33m=\u001b[0m \u001b[0masyncio\u001b[0m\u001b[1;33m.\u001b[0m\u001b[0mget_event_loop\u001b[0m\u001b[1;33m(\u001b[0m\u001b[1;33m)\u001b[0m\u001b[1;33m\u001b[0m\u001b[1;33m\u001b[0m\u001b[0m\n\u001b[0;32m     27\u001b[0m     \u001b[0mtasks\u001b[0m \u001b[1;33m=\u001b[0m \u001b[1;33m[\u001b[0m\u001b[0masyncio\u001b[0m\u001b[1;33m.\u001b[0m\u001b[0mensure_future\u001b[0m\u001b[1;33m(\u001b[0m\u001b[0mdownload\u001b[0m\u001b[1;33m(\u001b[0m\u001b[0mlanguage_code\u001b[0m\u001b[1;33m)\u001b[0m\u001b[1;33m)\u001b[0m\u001b[1;33m]\u001b[0m\u001b[1;33m\u001b[0m\u001b[1;33m\u001b[0m\u001b[0m\n\u001b[1;32m---> 28\u001b[1;33m     \u001b[0mlearn\u001b[0m \u001b[1;33m=\u001b[0m \u001b[0mloop\u001b[0m\u001b[1;33m.\u001b[0m\u001b[0mrun_until_complete\u001b[0m\u001b[1;33m(\u001b[0m\u001b[0masyncio\u001b[0m\u001b[1;33m.\u001b[0m\u001b[0mgather\u001b[0m\u001b[1;33m(\u001b[0m\u001b[1;33m*\u001b[0m\u001b[0mtasks\u001b[0m\u001b[1;33m)\u001b[0m\u001b[1;33m)\u001b[0m\u001b[1;33m[\u001b[0m\u001b[1;36m0\u001b[0m\u001b[1;33m]\u001b[0m\u001b[1;33m\u001b[0m\u001b[1;33m\u001b[0m\u001b[0m\n\u001b[0m\u001b[0;32m     29\u001b[0m     \u001b[0mloop\u001b[0m\u001b[1;33m.\u001b[0m\u001b[0mclose\u001b[0m\u001b[1;33m(\u001b[0m\u001b[1;33m)\u001b[0m\u001b[1;33m\u001b[0m\u001b[1;33m\u001b[0m\u001b[0m\n\u001b[0;32m     30\u001b[0m \u001b[1;33m\u001b[0m\u001b[0m\n",
      "\u001b[1;32mD:\\anaconda\\lib\\asyncio\\base_events.py\u001b[0m in \u001b[0;36mrun_until_complete\u001b[1;34m(self, future)\u001b[0m\n\u001b[0;32m    569\u001b[0m         \u001b[0mfuture\u001b[0m\u001b[1;33m.\u001b[0m\u001b[0madd_done_callback\u001b[0m\u001b[1;33m(\u001b[0m\u001b[0m_run_until_complete_cb\u001b[0m\u001b[1;33m)\u001b[0m\u001b[1;33m\u001b[0m\u001b[1;33m\u001b[0m\u001b[0m\n\u001b[0;32m    570\u001b[0m         \u001b[1;32mtry\u001b[0m\u001b[1;33m:\u001b[0m\u001b[1;33m\u001b[0m\u001b[1;33m\u001b[0m\u001b[0m\n\u001b[1;32m--> 571\u001b[1;33m             \u001b[0mself\u001b[0m\u001b[1;33m.\u001b[0m\u001b[0mrun_forever\u001b[0m\u001b[1;33m(\u001b[0m\u001b[1;33m)\u001b[0m\u001b[1;33m\u001b[0m\u001b[1;33m\u001b[0m\u001b[0m\n\u001b[0m\u001b[0;32m    572\u001b[0m         \u001b[1;32mexcept\u001b[0m\u001b[1;33m:\u001b[0m\u001b[1;33m\u001b[0m\u001b[1;33m\u001b[0m\u001b[0m\n\u001b[0;32m    573\u001b[0m             \u001b[1;32mif\u001b[0m \u001b[0mnew_task\u001b[0m \u001b[1;32mand\u001b[0m \u001b[0mfuture\u001b[0m\u001b[1;33m.\u001b[0m\u001b[0mdone\u001b[0m\u001b[1;33m(\u001b[0m\u001b[1;33m)\u001b[0m \u001b[1;32mand\u001b[0m \u001b[1;32mnot\u001b[0m \u001b[0mfuture\u001b[0m\u001b[1;33m.\u001b[0m\u001b[0mcancelled\u001b[0m\u001b[1;33m(\u001b[0m\u001b[1;33m)\u001b[0m\u001b[1;33m:\u001b[0m\u001b[1;33m\u001b[0m\u001b[1;33m\u001b[0m\u001b[0m\n",
      "\u001b[1;32mD:\\anaconda\\lib\\asyncio\\base_events.py\u001b[0m in \u001b[0;36mrun_forever\u001b[1;34m(self)\u001b[0m\n\u001b[0;32m    524\u001b[0m         \u001b[0mself\u001b[0m\u001b[1;33m.\u001b[0m\u001b[0m_check_closed\u001b[0m\u001b[1;33m(\u001b[0m\u001b[1;33m)\u001b[0m\u001b[1;33m\u001b[0m\u001b[1;33m\u001b[0m\u001b[0m\n\u001b[0;32m    525\u001b[0m         \u001b[1;32mif\u001b[0m \u001b[0mself\u001b[0m\u001b[1;33m.\u001b[0m\u001b[0mis_running\u001b[0m\u001b[1;33m(\u001b[0m\u001b[1;33m)\u001b[0m\u001b[1;33m:\u001b[0m\u001b[1;33m\u001b[0m\u001b[1;33m\u001b[0m\u001b[0m\n\u001b[1;32m--> 526\u001b[1;33m             \u001b[1;32mraise\u001b[0m \u001b[0mRuntimeError\u001b[0m\u001b[1;33m(\u001b[0m\u001b[1;34m'This event loop is already running'\u001b[0m\u001b[1;33m)\u001b[0m\u001b[1;33m\u001b[0m\u001b[1;33m\u001b[0m\u001b[0m\n\u001b[0m\u001b[0;32m    527\u001b[0m         \u001b[1;32mif\u001b[0m \u001b[0mevents\u001b[0m\u001b[1;33m.\u001b[0m\u001b[0m_get_running_loop\u001b[0m\u001b[1;33m(\u001b[0m\u001b[1;33m)\u001b[0m \u001b[1;32mis\u001b[0m \u001b[1;32mnot\u001b[0m \u001b[1;32mNone\u001b[0m\u001b[1;33m:\u001b[0m\u001b[1;33m\u001b[0m\u001b[1;33m\u001b[0m\u001b[0m\n\u001b[0;32m    528\u001b[0m             raise RuntimeError(\n",
      "\u001b[1;31mRuntimeError\u001b[0m: This event loop is already running"
     ]
    }
   ],
   "source": [
    "from inltk.inltk import setup\n",
    "setup('ta')"
   ]
  },
  {
   "cell_type": "code",
   "execution_count": 2,
   "metadata": {},
   "outputs": [],
   "source": [
    "from inltk.inltk import tokenize"
   ]
  },
  {
   "cell_type": "code",
   "execution_count": 3,
   "metadata": {},
   "outputs": [
    {
     "data": {
      "text/plain": [
       "['▁\"',\n",
       " 'தமிழ்',\n",
       " '▁இலக்கியம்',\n",
       " '▁இரண்ட',\n",
       " 'ாயிரம்',\n",
       " '▁ஆண்டுகளுக்கு',\n",
       " '▁மேலான',\n",
       " '▁தொடர்ச்சி',\n",
       " '▁கொண்ட',\n",
       " '▁உலகின்',\n",
       " '▁சிறந்த',\n",
       " '▁இலக்கிய',\n",
       " 'ங்களில்',\n",
       " '▁ஒன்று',\n",
       " '.',\n",
       " '▁வாழ்வ',\n",
       " 'ின்',\n",
       " '▁பல்வேறு',\n",
       " '▁கூறு',\n",
       " 'களை',\n",
       " '▁தமிழ்',\n",
       " '▁இலக்கிய',\n",
       " 'ங்கள்',\n",
       " '▁இ',\n",
       " 'ய',\n",
       " 'ம்ப',\n",
       " 'ுகின்றன',\n",
       " '.',\n",
       " '▁தமிழ்',\n",
       " '▁இலக்கிய',\n",
       " 'த்தில்',\n",
       " '▁வெண்பா',\n",
       " ',',\n",
       " '▁குற',\n",
       " 'ள்',\n",
       " ',',\n",
       " '▁புது',\n",
       " 'க்க',\n",
       " 'வி',\n",
       " 'தை',\n",
       " ',',\n",
       " '▁கட்டுரை',\n",
       " ',',\n",
       " '▁பழ',\n",
       " 'மொழி',\n",
       " ',',\n",
       " '▁தொ',\n",
       " 'ண்ண',\n",
       " 'ூ',\n",
       " 'ற்ற',\n",
       " 'ாறு',\n",
       " '▁வகை',\n",
       " '▁சிற்ற',\n",
       " 'ி',\n",
       " 'ல',\n",
       " 'க்கிய',\n",
       " 'ங்கள்',\n",
       " '▁என',\n",
       " '▁பல',\n",
       " '▁வடிவ',\n",
       " 'ங்கள்',\n",
       " '▁உள்ளன',\n",
       " '.',\n",
       " '▁தமிழில்',\n",
       " '▁வாய்',\n",
       " 'மொழி',\n",
       " '▁இலக்கிய',\n",
       " 'ங்களும்',\n",
       " '▁முக்கிய',\n",
       " '▁இடம்',\n",
       " '▁வ',\n",
       " 'கி',\n",
       " 'க்கின்றன',\n",
       " '.']"
      ]
     },
     "execution_count": 3,
     "metadata": {},
     "output_type": "execute_result"
    }
   ],
   "source": [
    "tamil_text = \"\"\"\"தமிழ் இலக்கியம் இரண்டாயிரம் ஆண்டுகளுக்கு மேலான தொடர்ச்சி கொண்ட உலகின் சிறந்த இலக்கியங்களில் ஒன்று. வாழ்வின் பல்வேறு கூறுகளை தமிழ் இலக்கியங்கள் இயம்புகின்றன. தமிழ் இலக்கியத்தில் வெண்பா, குறள், புதுக்கவிதை, கட்டுரை, பழமொழி, தொண்ணூற்றாறு வகை சிற்றிலக்கியங்கள் என பல வடிவங்கள் உள்ளன. தமிழில் வாய்மொழி இலக்கியங்களும் முக்கிய இடம் வகிக்கின்றன.\"\"\"\n",
    "tokenize(tamil_text, \"ta\")"
   ]
  },
  {
   "cell_type": "code",
   "execution_count": 4,
   "metadata": {},
   "outputs": [
    {
     "name": "stderr",
     "output_type": "stream",
     "text": [
      "D:\\anaconda\\lib\\site-packages\\torch\\serialization.py:493: SourceChangeWarning: source code of class 'torch.nn.modules.loss.CrossEntropyLoss' has changed. you can retrieve the original source code by accessing the object's source attribute or set `torch.nn.Module.dump_patches = True` and use the patch tool to revert the changes.\n",
      "  warnings.warn(msg, SourceChangeWarning)\n",
      "D:\\anaconda\\lib\\site-packages\\torch\\serialization.py:493: SourceChangeWarning: source code of class 'fastai.text.models.awd_lstm.AWD_LSTM' has changed. you can retrieve the original source code by accessing the object's source attribute or set `torch.nn.Module.dump_patches = True` and use the patch tool to revert the changes.\n",
      "  warnings.warn(msg, SourceChangeWarning)\n",
      "D:\\anaconda\\lib\\site-packages\\torch\\serialization.py:493: SourceChangeWarning: source code of class 'torch.nn.modules.sparse.Embedding' has changed. you can retrieve the original source code by accessing the object's source attribute or set `torch.nn.Module.dump_patches = True` and use the patch tool to revert the changes.\n",
      "  warnings.warn(msg, SourceChangeWarning)\n",
      "D:\\anaconda\\lib\\site-packages\\torch\\serialization.py:493: SourceChangeWarning: source code of class 'fastai.text.models.awd_lstm.EmbeddingDropout' has changed. you can retrieve the original source code by accessing the object's source attribute or set `torch.nn.Module.dump_patches = True` and use the patch tool to revert the changes.\n",
      "  warnings.warn(msg, SourceChangeWarning)\n",
      "D:\\anaconda\\lib\\site-packages\\torch\\serialization.py:493: SourceChangeWarning: source code of class 'torch.nn.modules.container.ModuleList' has changed. you can retrieve the original source code by accessing the object's source attribute or set `torch.nn.Module.dump_patches = True` and use the patch tool to revert the changes.\n",
      "  warnings.warn(msg, SourceChangeWarning)\n",
      "D:\\anaconda\\lib\\site-packages\\torch\\serialization.py:493: SourceChangeWarning: source code of class 'fastai.text.models.awd_lstm.WeightDropout' has changed. you can retrieve the original source code by accessing the object's source attribute or set `torch.nn.Module.dump_patches = True` and use the patch tool to revert the changes.\n",
      "  warnings.warn(msg, SourceChangeWarning)\n",
      "D:\\anaconda\\lib\\site-packages\\torch\\serialization.py:493: SourceChangeWarning: source code of class 'torch.nn.modules.rnn.LSTM' has changed. you can retrieve the original source code by accessing the object's source attribute or set `torch.nn.Module.dump_patches = True` and use the patch tool to revert the changes.\n",
      "  warnings.warn(msg, SourceChangeWarning)\n",
      "D:\\anaconda\\lib\\site-packages\\torch\\serialization.py:493: SourceChangeWarning: source code of class 'fastai.text.models.awd_lstm.RNNDropout' has changed. you can retrieve the original source code by accessing the object's source attribute or set `torch.nn.Module.dump_patches = True` and use the patch tool to revert the changes.\n",
      "  warnings.warn(msg, SourceChangeWarning)\n",
      "D:\\anaconda\\lib\\site-packages\\torch\\serialization.py:493: SourceChangeWarning: source code of class 'fastai.text.models.awd_lstm.LinearDecoder' has changed. you can retrieve the original source code by accessing the object's source attribute or set `torch.nn.Module.dump_patches = True` and use the patch tool to revert the changes.\n",
      "  warnings.warn(msg, SourceChangeWarning)\n",
      "D:\\anaconda\\lib\\site-packages\\torch\\serialization.py:493: SourceChangeWarning: source code of class 'torch.nn.modules.linear.Linear' has changed. you can retrieve the original source code by accessing the object's source attribute or set `torch.nn.Module.dump_patches = True` and use the patch tool to revert the changes.\n",
      "  warnings.warn(msg, SourceChangeWarning)\n"
     ]
    },
    {
     "data": {
      "text/html": [],
      "text/plain": [
       "<IPython.core.display.HTML object>"
      ]
     },
     "metadata": {},
     "output_type": "display_data"
    },
    {
     "data": {
      "text/html": [],
      "text/plain": [
       "<IPython.core.display.HTML object>"
      ]
     },
     "metadata": {},
     "output_type": "display_data"
    },
    {
     "name": "stdout",
     "output_type": "stream",
     "text": [
      "[array([-0.091926, -0.51197 ,  0.762463, -0.32731 , ..., -0.12307 ,  0.121433, -0.012064,  0.08813 ], dtype=float32), array([ 0.016526,  0.105919,  0.267705, -0.234274, ..., -0.570435,  0.378552, -0.025878,  0.356766], dtype=float32), array([ 0.082555, -0.033754, -0.027776,  0.317212, ..., -0.583689, -0.156249,  0.258141,  0.275877], dtype=float32)]\n",
      "shape: (400,)\n"
     ]
    }
   ],
   "source": [
    "from inltk.inltk import get_embedding_vectors\n",
    "\n",
    "# get embedding for input words\n",
    "vectors = get_embedding_vectors(\"சங்க இலக்கியம் எனப்படுவது \", \"ta\")\n",
    "\n",
    "print(vectors)\n",
    "# print shape of the first word\n",
    "print(\"shape:\", vectors[0].shape)"
   ]
  },
  {
   "cell_type": "code",
   "execution_count": 5,
   "metadata": {},
   "outputs": [],
   "source": [
    "import sys\n",
    "from indicnlp import common\n",
    "\n",
    "# The path to the local git repo for Indic NLP library\n",
    "INDIC_NLP_LIB_HOME=r\"indic_nlp_library\"\n",
    "\n",
    "# The path to the local git repo for Indic NLP Resources\n",
    "INDIC_NLP_RESOURCES=r\"indic_nlp_resources\"\n",
    "\n",
    "# Add library to Python path\n",
    "sys.path.append(r'{}\\src'.format(INDIC_NLP_LIB_HOME))\n",
    "\n",
    "# Set environment variable for resources folder\n",
    "common.set_resources_path(INDIC_NLP_RESOURCES)"
   ]
  },
  {
   "cell_type": "code",
   "execution_count": 6,
   "metadata": {},
   "outputs": [],
   "source": [
    "from indicnlp.tokenize import sentence_tokenize"
   ]
  },
  {
   "cell_type": "code",
   "execution_count": 7,
   "metadata": {},
   "outputs": [],
   "source": [
    "indic_string='இப்புலவர்களுள் பலதரப்பட்ட தொழில் புரிந்தோரும், பெண்களும் அடங்குவர். அக்காலகட்டத்தில் வாழ்ந்த தமிழர்களின் அன்றாட வாழ்க்கை நிலைமைகளைப் படம்பிடித்துக் காட்டுவதாய்ச் சங்க இலக்கியங்கள் உள்ளன.'"
   ]
  },
  {
   "cell_type": "markdown",
   "metadata": {},
   "source": [
    "# Sentence Splitter"
   ]
  },
  {
   "cell_type": "code",
   "execution_count": 8,
   "metadata": {},
   "outputs": [
    {
     "name": "stdout",
     "output_type": "stream",
     "text": [
      "இப்புலவர்களுள் பலதரப்பட்ட தொழில் புரிந்தோரும், பெண்களும் அடங்குவர்.\n",
      "அக்காலகட்டத்தில் வாழ்ந்த தமிழர்களின் அன்றாட வாழ்க்கை நிலைமைகளைப் படம்பிடித்துக் காட்டுவதாய்ச் சங்க இலக்கியங்கள் உள்ளன.\n"
     ]
    }
   ],
   "source": [
    "from indicnlp.tokenize import sentence_tokenize\n",
    "\n",
    "indic_string=\"\"\"இப்புலவர்களுள் பலதரப்பட்ட தொழில் புரிந்தோரும், பெண்களும் அடங்குவர். அக்காலகட்டத்தில் வாழ்ந்த தமிழர்களின் அன்றாட வாழ்க்கை நிலைமைகளைப் படம்பிடித்துக் காட்டுவதாய்ச் சங்க இலக்கியங்கள் உள்ளன.\"\"\"\n",
    "sentences=sentence_tokenize.sentence_split(indic_string, lang='tam')\n",
    "for t in sentences:\n",
    "    print(t)"
   ]
  },
  {
   "cell_type": "markdown",
   "metadata": {},
   "source": [
    "# Tokenization"
   ]
  },
  {
   "cell_type": "code",
   "execution_count": 9,
   "metadata": {},
   "outputs": [
    {
     "name": "stdout",
     "output_type": "stream",
     "text": [
      "Input String: சங்க காலத்திற்கு அடுத்து வந்த காலப்பகுதியில் அறவழி கூறும் நூல்கள் மிகுதியாக வெளிவந்தன. \n",
      "Tokens: \n",
      "சங்க\n",
      "காலத்திற்கு\n",
      "அடுத்து\n",
      "வந்த\n",
      "காலப்பகுதியில்\n",
      "அறவழி\n",
      "கூறும்\n",
      "நூல்கள்\n",
      "மிகுதியாக\n",
      "வெளிவந்தன\n",
      ".\n"
     ]
    }
   ],
   "source": [
    "from indicnlp.tokenize import indic_tokenize  \n",
    "\n",
    "indic_string='சங்க காலத்திற்கு அடுத்து வந்த காலப்பகுதியில் அறவழி கூறும் நூல்கள் மிகுதியாக வெளிவந்தன. '\n",
    "\n",
    "print('Input String: {}'.format(indic_string))\n",
    "print('Tokens: ')\n",
    "for t in indic_tokenize.trivial_tokenize(indic_string): \n",
    "    print(t)"
   ]
  },
  {
   "cell_type": "markdown",
   "metadata": {},
   "source": [
    "# Detokenization"
   ]
  },
  {
   "cell_type": "code",
   "execution_count": 10,
   "metadata": {},
   "outputs": [
    {
     "name": "stdout",
     "output_type": "stream",
     "text": [
      "Input String: \"சங்க காலத்திற்கு அடுத்து வந்த காலப்பகுதியில் அறவழி கூறும் நூல்கள் மிகுதியாக வெளிவந்தன.\" , \"எனவே இக்காலம் நீதிநூற்காலம் எனப்படுகிறது. \"\n",
      "Detokenized String: \"சங்க காலத்திற்கு அடுத்து வந்த காலப்பகுதியில் அறவழி கூறும் நூல்கள் மிகுதியாக வெளிவந்தன.\", \"எனவே இக்காலம் நீதிநூற்காலம் எனப்படுகிறது.\"\n"
     ]
    }
   ],
   "source": [
    "from indicnlp.tokenize import indic_detokenize  \n",
    "indic_string='\"சங்க காலத்திற்கு அடுத்து வந்த காலப்பகுதியில் அறவழி கூறும் நூல்கள் மிகுதியாக வெளிவந்தன.\" , \"எனவே இக்காலம் நீதிநூற்காலம் எனப்படுகிறது. \"'\n",
    "print('Input String: {}'.format(indic_string))\n",
    "print('Detokenized String: {}'.format(indic_detokenize.trivial_detokenize(indic_string,lang='ta')))"
   ]
  },
  {
   "cell_type": "markdown",
   "metadata": {},
   "source": [
    "# Script Conversion (Tamil - Malayalam)"
   ]
  },
  {
   "cell_type": "code",
   "execution_count": 11,
   "metadata": {},
   "outputs": [
    {
     "name": "stdout",
     "output_type": "stream",
     "text": [
      "18 ആമ്, 19 ആമ് നൂറ്റാണ്ടുക് കാലപ്പകുതിയില് തമിഴ്നാട്ടില് അരചിയല്, മതമ്, കല്വി പോഩ്റ തളങ്കളില് പല വിതമാഩ മാറ്റങ്കള് ഇടമ്പെറ്റഩ. കുഩ്റക്കുടി, തിരുവാവടുതുറൈ, തിരുപ്പഩന്താള് പോഩ്റ ചൈവ മടങ്കളിഩ് ആതരവാലുമ്, ചില പുലവര് പരമ്പരൈയിഩരിഩ് മുയറ്ചിയാലുമ് തമിഴ് ഇലക്കിയച് ചെല്വങ്കള്, വിഴുമിയങ്കള് അഴിവുറുവതു കാലത്താല് തടുക്കപ്പട്ടതു.\n"
     ]
    }
   ],
   "source": [
    "from indicnlp.transliterate.unicode_transliterate import UnicodeIndicTransliterator\n",
    "input_text='18 ஆம், 19 ஆம் நூற்றாண்டுக் காலப்பகுதியில் தமிழ்நாட்டில் அரசியல், மதம், கல்வி போன்ற தளங்களில் பல விதமான மாற்றங்கள் இடம்பெற்றன. குன்றக்குடி, திருவாவடுதுறை, திருப்பனந்தாள் போன்ற சைவ மடங்களின் ஆதரவாலும், சில புலவர் பரம்பரையினரின் முயற்சியாலும் தமிழ் இலக்கியச் செல்வங்கள், விழுமியங்கள் அழிவுறுவது காலத்தால் தடுக்கப்பட்டது.'\n",
    "print(UnicodeIndicTransliterator.transliterate(input_text,\"ta\",\"ml\"))"
   ]
  },
  {
   "cell_type": "markdown",
   "metadata": {},
   "source": [
    "# Transliteration"
   ]
  },
  {
   "cell_type": "code",
   "execution_count": 12,
   "metadata": {},
   "outputs": [
    {
     "name": "stdout",
     "output_type": "stream",
     "text": [
      "18 ஆ, 19 ஆ ூாு ாலபுிி திாி அரிய, மத, கி ோற தளகி பல ிதான ாறக இடெறன. ுறுி, ிுாவுுை, ிுபனா ோற ைவ மடகி ஆதராு, ில ுலவ பரபைினி ுயிாு தி இலிய ெவக, ிுியக அிுுவு ாலா துகபடு.\n"
     ]
    }
   ],
   "source": [
    "from indicnlp.transliterate.unicode_transliterate import ItransTransliterator\n",
    "\n",
    "input_text='18 ஆம், 19 ஆம் நூற்றாண்டுக் காலப்பகுதியில் தமிழ்நாட்டில் அரசியல், மதம், கல்வி போன்ற தளங்களில் பல விதமான மாற்றங்கள் இடம்பெற்றன. குன்றக்குடி, திருவாவடுதுறை, திருப்பனந்தாள் போன்ற சைவ மடங்களின் ஆதரவாலும், சில புலவர் பரம்பரையினரின் முயற்சியாலும் தமிழ் இலக்கியச் செல்வங்கள், விழுமியங்கள் அழிவுறுவது காலத்தால் தடுக்கப்பட்டது.'\n",
    "# Transliterate Tamil to Roman\n",
    "print(ItransTransliterator.to_itrans(input_text, 'ta'))"
   ]
  },
  {
   "cell_type": "code",
   "execution_count": null,
   "metadata": {},
   "outputs": [],
   "source": []
  }
 ],
 "metadata": {
  "kernelspec": {
   "display_name": "Python 3",
   "language": "python",
   "name": "python3"
  },
  "language_info": {
   "codemirror_mode": {
    "name": "ipython",
    "version": 3
   },
   "file_extension": ".py",
   "mimetype": "text/x-python",
   "name": "python",
   "nbconvert_exporter": "python",
   "pygments_lexer": "ipython3",
   "version": "3.7.3"
  }
 },
 "nbformat": 4,
 "nbformat_minor": 4
}
